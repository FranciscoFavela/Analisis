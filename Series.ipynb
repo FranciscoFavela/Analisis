{
 "cells": [
  {
   "cell_type": "markdown",
   "metadata": {},
   "source": [
    "![](CintillaTecNM-ITD.png)\n",
    "\n",
    "\n",
    "<div style=\"text-align: center\">\n",
    "\n",
    "## Análisis de Datos Masivos\n",
    "\n",
    "### Introducción a las Series\n",
    "\n",
    "## Asesor:\n",
    "### M.T.I. José Gabriel Rodríguez Rivas\n",
    "\n",
    "</div>"
   ]
  },
  {
   "cell_type": "markdown",
   "metadata": {},
   "source": [
    "## Tabla de contenido\n",
    "\n",
    "[1-. La estructura **Series** en **pandas**](#id1)<br>\n",
    "[2-. Busquedas en Series](#id2)<br>\n",
    "[3-. Combinando Series ](#id3)<br>\n",
    "[4-. Graficando Series](#id4)<br>\n"
   ]
  },
  {
   "cell_type": "markdown",
   "metadata": {},
   "source": [
    " ##  La estructura Series en pandas <a id=\"id1\"> </a>\n",
    " \n",
    "1. **Pandas** es una biblioteca de código abierto que proporciona estructuras de datos y herramientas de análisis de datos de alto rendimiento y fáciles de usar para el lenguaje de programación Python.\n",
    "2. Fue diseñada originalmente para gestionar datos financieros, y como alternativa al uso de hojas de cálculo. \n",
    "3. Un objeto **Series** es un vector con datos indexados, capaz de contener cualquier tipo de datos (enteros, cadenas, números de coma flotante, objetos de Python, etc.). \n",
    "4. Si no se especifican indices, se asigna una secuencia de indices por defecto. "
   ]
  },
  {
   "cell_type": "code",
   "execution_count": 2,
   "metadata": {},
   "outputs": [],
   "source": [
    "import pandas as pd\n",
    "\n",
    "# obtener ayuda sobre una palabra reservada\n",
    "# pd.Series?"
   ]
  },
  {
   "cell_type": "code",
   "execution_count": 11,
   "metadata": {},
   "outputs": [
    {
     "data": {
      "text/plain": [
       "['Tigre', 'Oso', 'León', 'Jaguar']"
      ]
     },
     "execution_count": 11,
     "metadata": {},
     "output_type": "execute_result"
    }
   ],
   "source": [
    "#Crear una lista  \n",
    "animales = ['Tigre', 'Oso', 'León', 'Jaguar']\n",
    "animales"
   ]
  },
  {
   "cell_type": "code",
   "execution_count": 12,
   "metadata": {},
   "outputs": [
    {
     "name": "stdout",
     "output_type": "stream",
     "text": [
      "<class 'list'>\n"
     ]
    }
   ],
   "source": [
    "print(type(animales))"
   ]
  },
  {
   "cell_type": "code",
   "execution_count": 13,
   "metadata": {},
   "outputs": [],
   "source": [
    "#Crear una serie a partir de una lista  \n",
    "animales = pd.Series(animales)"
   ]
  },
  {
   "cell_type": "code",
   "execution_count": 14,
   "metadata": {},
   "outputs": [
    {
     "name": "stdout",
     "output_type": "stream",
     "text": [
      "<class 'pandas.core.series.Series'>\n"
     ]
    }
   ],
   "source": [
    "print(type(animales))"
   ]
  },
  {
   "cell_type": "code",
   "execution_count": 15,
   "metadata": {},
   "outputs": [
    {
     "data": {
      "text/plain": [
       "0     Tigre\n",
       "1       Oso\n",
       "2      León\n",
       "3    Jaguar\n",
       "dtype: object"
      ]
     },
     "execution_count": 15,
     "metadata": {},
     "output_type": "execute_result"
    }
   ],
   "source": [
    "animales"
   ]
  },
  {
   "cell_type": "code",
   "execution_count": 40,
   "metadata": {},
   "outputs": [
    {
     "data": {
      "text/plain": [
       "0    1\n",
       "1    2\n",
       "2    3\n",
       "3    4\n",
       "4    5\n",
       "5    6\n",
       "6    7\n",
       "dtype: int64"
      ]
     },
     "execution_count": 40,
     "metadata": {},
     "output_type": "execute_result"
    }
   ],
   "source": [
    "numeros = [1, 2, 3, 4, 5 ,6 ,7 ]\n",
    "numeros = pd.Series(numeros)\n",
    "numeros"
   ]
  },
  {
   "cell_type": "code",
   "execution_count": 43,
   "metadata": {},
   "outputs": [
    {
     "data": {
      "text/plain": [
       "0    1.0\n",
       "1    2.0\n",
       "2    3.0\n",
       "3    4.0\n",
       "4    5.0\n",
       "5    6.0\n",
       "6    7.1\n",
       "7    NaN\n",
       "dtype: float64"
      ]
     },
     "execution_count": 43,
     "metadata": {},
     "output_type": "execute_result"
    }
   ],
   "source": [
    "numeros2 = [1, 2, 3, 4, 5 ,6 ,7.1 , None]\n",
    "numeros2 = pd.Series(numeros2)\n",
    "numeros2"
   ]
  },
  {
   "cell_type": "code",
   "execution_count": 26,
   "metadata": {},
   "outputs": [
    {
     "data": {
      "text/plain": [
       "0     Tigre\n",
       "1       Oso\n",
       "2      León\n",
       "3    Jaguar\n",
       "4      None\n",
       "dtype: object"
      ]
     },
     "execution_count": 26,
     "metadata": {},
     "output_type": "execute_result"
    }
   ],
   "source": [
    "# Numos en cadenas   ( ya no aarece NaN, sino None)\n",
    "animales2 = ['Tigre', 'Oso', 'León', 'Jaguar', None]\n",
    "\n",
    "animales2 = pd.Series(animales2)\n",
    "animales2"
   ]
  },
  {
   "cell_type": "code",
   "execution_count": 27,
   "metadata": {},
   "outputs": [
    {
     "data": {
      "text/plain": [
       "ITIC    Ingenieria en Tecnologias de Informacion y Com...\n",
       "ISIC                Ingenieria en Sistemas Computcionales\n",
       "IINF                               Ingenieria Informatica\n",
       "dtype: object"
      ]
     },
     "execution_count": 27,
     "metadata": {},
     "output_type": "execute_result"
    }
   ],
   "source": [
    "carreras = {'ITIC': 'Ingenieria en Tecnologias de Informacion y Comunicaciones',\n",
    "          'ISIC': 'Ingenieria en Sistemas Computcionales',\n",
    "          'IINF': 'Ingenieria Informatica'}\n",
    "carreras = pd.Series(carreras)\n",
    "carreras"
   ]
  },
  {
   "cell_type": "code",
   "execution_count": 29,
   "metadata": {},
   "outputs": [
    {
     "data": {
      "text/plain": [
       "ITIC    Ingenieria en Tecnologias de Informacion y Com...\n",
       "ISIC                Ingenieria en Sistemas Computcionales\n",
       "IINF                               Ingenieria Informatica\n",
       "dtype: object"
      ]
     },
     "execution_count": 29,
     "metadata": {},
     "output_type": "execute_result"
    }
   ],
   "source": [
    "carreras2 = pd.Series(['Ingenieria en Tecnologias de Informacion y Comunicaciones',\n",
    "                       'Ingenieria en Sistemas Computcionales',\n",
    "                       'Ingenieria Informatica'],\n",
    "                       index=['ITIC', 'ISIC', 'IINF'])\n",
    "\n",
    "carreras2"
   ]
  },
  {
   "cell_type": "code",
   "execution_count": 44,
   "metadata": {},
   "outputs": [
    {
     "data": {
      "text/plain": [
       "1    1\n",
       "2    2\n",
       "3    3\n",
       "4    4\n",
       "5    5\n",
       "dtype: int64"
      ]
     },
     "execution_count": 44,
     "metadata": {},
     "output_type": "execute_result"
    }
   ],
   "source": [
    "numeros3 = pd.Series( [1, 2, 3, 4, 5 ], index =[1,2,3,4,5] )\n",
    "numeros3"
   ]
  },
  {
   "cell_type": "code",
   "execution_count": 51,
   "metadata": {},
   "outputs": [
    {
     "data": {
      "text/plain": [
       "ITIC     60\n",
       "ISIC    200\n",
       "IINF    100\n",
       "dtype: int64"
      ]
     },
     "execution_count": 51,
     "metadata": {},
     "output_type": "execute_result"
    }
   ],
   "source": [
    "carreras3 = pd.Series( {'ITIC': 60,\n",
    "          'ISIC': 200,\n",
    "          'IINF': 100 } )\n",
    "carreras3"
   ]
  },
  {
   "cell_type": "markdown",
   "metadata": {},
   "source": []
  },
  {
   "cell_type": "markdown",
   "metadata": {},
   "source": [
    " ## Busquedas en Series <a id=\"id2\"> </a>"
   ]
  },
  {
   "cell_type": "code",
   "execution_count": 63,
   "metadata": {},
   "outputs": [
    {
     "data": {
      "text/plain": [
       "'Ingenieria Informatica'"
      ]
     },
     "execution_count": 63,
     "metadata": {},
     "output_type": "execute_result"
    }
   ],
   "source": [
    "carreras2.loc['IINF']"
   ]
  },
  {
   "cell_type": "code",
   "execution_count": 78,
   "metadata": {},
   "outputs": [
    {
     "data": {
      "text/plain": [
       "'Ingenieria en Tecnologias de Informacion y Comunicaciones'"
      ]
     },
     "execution_count": 78,
     "metadata": {},
     "output_type": "execute_result"
    }
   ],
   "source": [
    "carreras2['ITIC']"
   ]
  },
  {
   "cell_type": "code",
   "execution_count": 64,
   "metadata": {},
   "outputs": [
    {
     "data": {
      "text/plain": [
       "3.0"
      ]
     },
     "execution_count": 64,
     "metadata": {},
     "output_type": "execute_result"
    }
   ],
   "source": [
    "numeros2.iloc[2]"
   ]
  },
  {
   "cell_type": "code",
   "execution_count": 79,
   "metadata": {},
   "outputs": [
    {
     "data": {
      "text/plain": [
       "3.0"
      ]
     },
     "execution_count": 79,
     "metadata": {},
     "output_type": "execute_result"
    }
   ],
   "source": [
    "numeros2[2]"
   ]
  },
  {
   "cell_type": "markdown",
   "metadata": {},
   "source": [
    "## Combinando Series <a id=\"id3\"> </a>"
   ]
  },
  {
   "cell_type": "code",
   "execution_count": 74,
   "metadata": {},
   "outputs": [
    {
     "data": {
      "text/plain": [
       "ITIC    Ingenieria en Tecnologias de Informacion y Com...\n",
       "ISIC                Ingenieria en Sistemas Computcionales\n",
       "IINF                               Ingenieria Informatica\n",
       "dtype: object"
      ]
     },
     "execution_count": 74,
     "metadata": {},
     "output_type": "execute_result"
    }
   ],
   "source": [
    "Ingenierias = pd.Series ({'ITIC': 'Ingenieria en Tecnologias de Informacion y Comunicaciones',\n",
    "          'ISIC': 'Ingenieria en Sistemas Computcionales',\n",
    "          'IINF': 'Ingenieria Informatica'})\n",
    "Ingenierias"
   ]
  },
  {
   "cell_type": "code",
   "execution_count": 75,
   "metadata": {},
   "outputs": [
    {
     "data": {
      "text/plain": [
       "LINF       Licenciatura en Informatica\n",
       "LADM    Licenciatura en Administración\n",
       "dtype: object"
      ]
     },
     "execution_count": 75,
     "metadata": {},
     "output_type": "execute_result"
    }
   ],
   "source": [
    "Licenciaturas = pd.Series ({'LINF': 'Licenciatura en Informatica',\n",
    "          'LADM': 'Licenciatura en Administración'})\n",
    "Licenciaturas"
   ]
  },
  {
   "cell_type": "code",
   "execution_count": 77,
   "metadata": {},
   "outputs": [
    {
     "data": {
      "text/plain": [
       "ITIC    Ingenieria en Tecnologias de Informacion y Com...\n",
       "ISIC                Ingenieria en Sistemas Computcionales\n",
       "IINF                               Ingenieria Informatica\n",
       "LINF                          Licenciatura en Informatica\n",
       "LADM                       Licenciatura en Administración\n",
       "dtype: object"
      ]
     },
     "execution_count": 77,
     "metadata": {},
     "output_type": "execute_result"
    }
   ],
   "source": [
    "carreras = Ingenierias.append(Licenciaturas)\n",
    "carreras"
   ]
  },
  {
   "cell_type": "code",
   "execution_count": null,
   "metadata": {},
   "outputs": [],
   "source": []
  },
  {
   "cell_type": "markdown",
   "metadata": {},
   "source": [
    "## Graficando Series <a id=\"id4\"> </a>"
   ]
  },
  {
   "cell_type": "code",
   "execution_count": 59,
   "metadata": {},
   "outputs": [
    {
     "data": {
      "text/plain": [
       "<matplotlib.axes._subplots.AxesSubplot at 0x1c25e4edcf8>"
      ]
     },
     "execution_count": 59,
     "metadata": {},
     "output_type": "execute_result"
    },
    {
     "data": {
      "image/png": "[encoded data removed]",
      "text/plain": [
       "<Figure size 432x288 with 1 Axes>"
      ]
     },
     "metadata": {},
     "output_type": "display_data"
    }
   ],
   "source": [
    "import matplotlib as plt\n",
    "%matplotlib inline\n",
    "\n",
    "carreras3.plot(kind='pie', title = \"Alumnos por carrera\")"
   ]
  },
  {
   "cell_type": "code",
   "execution_count": null,
   "metadata": {},
   "outputs": [],
   "source": []
  },
  {
   "cell_type": "code",
   "execution_count": 60,
   "metadata": {},
   "outputs": [
    {
     "data": {
      "text/plain": [
       "<matplotlib.axes._subplots.AxesSubplot at 0x1c25e52e828>"
      ]
     },
     "execution_count": 60,
     "metadata": {},
     "output_type": "execute_result"
    },
    {
     "data": {
      "image/png": "[encoded data removed]",
      "text/plain": [
       "<Figure size 432x288 with 1 Axes>"
      ]
     },
     "metadata": {
      "needs_background": "light"
     },
     "output_type": "display_data"
    }
   ],
   "source": [
    "carreras3.plot(kind='bar', title = \"Alumnos por carrera\")"
   ]
  },
  {
   "cell_type": "code",
   "execution_count": 61,
   "metadata": {},
   "outputs": [
    {
     "data": {
      "text/plain": [
       "<matplotlib.axes._subplots.AxesSubplot at 0x1c25e57b240>"
      ]
     },
     "execution_count": 61,
     "metadata": {},
     "output_type": "execute_result"
    },
    {
     "data": {
      "image/png": "[encoded data removed]",
      "text/plain": [
       "<Figure size 432x288 with 1 Axes>"
      ]
     },
     "metadata": {
      "needs_background": "light"
     },
     "output_type": "display_data"
    }
   ],
   "source": [
    "# Grafico de lineas\n",
    "# no es adecuado para la informacion, solamente que en el indice\n",
    "# tuvieramos años o semestres para ver la evolucion de inscripciones de alumnos\n",
    "carreras3.plot( title = \"Alumnos por carrera\")"
   ]
  },
  {
   "cell_type": "code",
   "execution_count": null,
   "metadata": {},
   "outputs": [],
   "source": []
  }
 ],
 "metadata": {
  "kernelspec": {
   "display_name": "Python 3",
   "language": "python",
   "name": "python3"
  },
  "language_info": {
   "codemirror_mode": {
    "name": "ipython",
    "version": 3
   },
   "file_extension": ".py",
   "mimetype": "text/x-python",
   "name": "python",
   "nbconvert_exporter": "python",
   "pygments_lexer": "ipython3",
   "version": "3.7.1"
  }
 },
 "nbformat": 4,
 "nbformat_minor": 2
}
